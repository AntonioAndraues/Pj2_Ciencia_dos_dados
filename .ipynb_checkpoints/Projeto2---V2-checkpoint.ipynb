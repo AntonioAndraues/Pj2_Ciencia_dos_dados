{
 "cells": [
  {
   "cell_type": "markdown",
   "metadata": {},
   "source": [
    "# Projeto 2 - Classificador Automático de Sentimento\n",
    "\n",
    "Você foi contratado por uma empresa parar analisar como os clientes estão reagindo a um determinado produto no Twitter. A empresa deseja que você crie um programa que irá analisar as mensagens disponíveis e classificará como \"relevante\" ou \"irrelevante\". Com isso ela deseja que mensagens negativas, que denigrem o nome do produto, ou que mereçam destaque, disparem um foco de atenção da área de marketing.<br /><br />\n",
    "Como aluno de Ciência dos Dados, você lembrou do Teorema de Bayes, mais especificamente do Classificador Naive-Bayes, que é largamente utilizado em filtros anti-spam de e-mails. O classificador permite calcular qual a probabilidade de uma mensagem ser relevante dadas as palavras em seu conteúdo.<br /><br />\n",
    "Para realizar o MVP (*minimum viable product*) do projeto, você precisa implementar uma versão do classificador que \"aprende\" o que é relevante com uma base de treinamento e compara a performance dos resultados com uma base de testes.<br /><br />\n",
    "Após validado, o seu protótipo poderá também capturar e classificar automaticamente as mensagens da plataforma.\n",
    "\n",
    "## Informações do Projeto\n",
    "\n",
    "Prazo: 13/Set até às 23:59.<br />\n",
    "Grupo: 1 ou 2 pessoas.<br /><br />\n",
    "Entregáveis via GitHub: \n",
    "* Arquivo notebook com o código do classificador, seguindo as orientações abaixo.\n",
    "* Arquivo Excel com as bases de treinamento e teste totalmente classificado.\n",
    "\n",
    "**NÃO disponibilizar o arquivo com os *access keys/tokens* do Twitter.**\n",
    "\n",
    "\n",
    "### Check 3: \n",
    "\n",
    "Até o dia 06 de Setembro às 23:59, o notebook e o xlsx devem estar no Github com as seguintes evidências: \n",
    "    * Conta no twitter criada.\n",
    "    * Produto escolhido.\n",
    "    * Arquivo Excel contendo a base de treinamento e teste já classificado.\n",
    "\n",
    "Sugestão de leitura:<br />\n",
    "http://docs.tweepy.org/en/v3.5.0/index.html<br />\n",
    "https://monkeylearn.com/blog/practical-explanation-naive-bayes-classifier/"
   ]
  },
  {
   "cell_type": "markdown",
   "metadata": {},
   "source": [
    "___\n",
    "\n",
    "## Preparando o ambiente\n",
    "\n",
    "Instalando a biblioteca *tweepy* para realizar a conexão com o Twitter:"
   ]
  },
  {
   "cell_type": "code",
   "execution_count": 4,
   "metadata": {
    "collapsed": true
   },
   "outputs": [],
   "source": [
    "%%capture\n",
    "\n",
    "#Instalando o tweepy\n",
    "!pip install tweepy"
   ]
  },
  {
   "cell_type": "markdown",
   "metadata": {},
   "source": [
    "Importando as Bibliotecas que serão utilizadas. Esteja livre para adicionar outras."
   ]
  },
  {
   "cell_type": "code",
   "execution_count": 11,
   "metadata": {},
   "outputs": [],
   "source": [
    "import tweepy\n",
    "import math\n",
    "import os.path\n",
    "import pandas as pd\n",
    "import json\n",
    "from random import shuffle\n",
    "%matplotlib inline\n",
    "\n",
    "import matplotlib.pyplot as plt\n",
    "import numpy as np\n",
    "import os\n"
   ]
  },
  {
   "cell_type": "markdown",
   "metadata": {},
   "source": [
    "___\n",
    "## Autenticando no  Twitter\n",
    "\n",
    "Para realizar a captura dos dados é necessário ter uma conta cadastrada no twitter:\n",
    "\n",
    "* Conta: ***[Preencha aqui o id da sua conta. Ex: @fulano ]***\n",
    "\n",
    "\n",
    "1. Caso ainda não tenha uma: https://twitter.com/signup\n",
    "1. Depois é necessário registrar um app para usar a biblioteca: https://apps.twitter.com/\n",
    "1. Dentro do registro do App, na aba Keys and Access Tokens, anotar os seguintes campos:\n",
    "    1. Consumer Key (API Key)\n",
    "    1. Consumer Secret (API Secret)\n",
    "1. Mais abaixo, gere um Token e anote também:\n",
    "    1. Access Token\n",
    "    1. Access Token Secret\n",
    "    \n",
    "1. Preencha os valores no arquivo \"auth.pass\"\n",
    "\n",
    "**ATENÇÃO**: Nunca divulgue os dados desse arquivo online (GitHub, etc). Ele contém as chaves necessárias para realizar as operações no twitter de forma automática e portanto é equivalente a ser \"hackeado\". De posse desses dados, pessoas mal intencionadas podem fazer todas as operações manuais (tweetar, seguir, bloquear/desbloquear, listar os seguidores, etc). Para efeito do projeto, esse arquivo não precisa ser entregue!!!"
   ]
  },
  {
   "cell_type": "code",
   "execution_count": 12,
   "metadata": {},
   "outputs": [
    {
     "ename": "FileNotFoundError",
     "evalue": "[Errno 2] No such file or directory: 'auth.pass'",
     "output_type": "error",
     "traceback": [
      "\u001b[1;31m---------------------------------------------------------------------------\u001b[0m",
      "\u001b[1;31mFileNotFoundError\u001b[0m                         Traceback (most recent call last)",
      "\u001b[1;32m<ipython-input-12-71cd346a41cc>\u001b[0m in \u001b[0;36m<module>\u001b[1;34m()\u001b[0m\n\u001b[0;32m      4\u001b[0m \u001b[1;33m\u001b[0m\u001b[0m\n\u001b[0;32m      5\u001b[0m \u001b[1;31m#leitura do arquivo no formato JSON\u001b[0m\u001b[1;33m\u001b[0m\u001b[1;33m\u001b[0m\u001b[0m\n\u001b[1;32m----> 6\u001b[1;33m \u001b[1;32mwith\u001b[0m \u001b[0mopen\u001b[0m\u001b[1;33m(\u001b[0m\u001b[1;34m'auth.pass'\u001b[0m\u001b[1;33m)\u001b[0m \u001b[1;32mas\u001b[0m \u001b[0mfp\u001b[0m\u001b[1;33m:\u001b[0m\u001b[1;33m\u001b[0m\u001b[0m\n\u001b[0m\u001b[0;32m      7\u001b[0m     \u001b[0mdata\u001b[0m \u001b[1;33m=\u001b[0m \u001b[0mjson\u001b[0m\u001b[1;33m.\u001b[0m\u001b[0mload\u001b[0m\u001b[1;33m(\u001b[0m\u001b[0mfp\u001b[0m\u001b[1;33m)\u001b[0m\u001b[1;33m\u001b[0m\u001b[0m\n\u001b[0;32m      8\u001b[0m \u001b[1;33m\u001b[0m\u001b[0m\n",
      "\u001b[1;31mFileNotFoundError\u001b[0m: [Errno 2] No such file or directory: 'auth.pass'"
     ]
    }
   ],
   "source": [
    "#Dados de autenticação do twitter:\n",
    "\n",
    "#Coloque aqui o identificador da conta no twitter: @fulano\n",
    "\n",
    "#leitura do arquivo no formato JSON\n",
    "with open('auth.pass') as fp:    \n",
    "    data = json.load(fp)\n",
    "\n",
    "#Configurando a biblioteca. Não modificar\n",
    "auth = tweepy.OAuthHandler(data['consumer_key'], data['consumer_secret'])\n",
    "auth.set_access_token(data['access_token'], data['access_token_secret'])"
   ]
  },
  {
   "cell_type": "markdown",
   "metadata": {},
   "source": [
    "___\n",
    "## Coletando Dados\n",
    "\n",
    "Agora vamos coletar os dados. Tenha em mente que dependendo do produto escolhido, não haverá uma quantidade significativa de mensagens, ou ainda poder haver muitos retweets.<br /><br /> \n",
    "Configurando:"
   ]
  },
  {
   "cell_type": "code",
   "execution_count": null,
   "metadata": {
    "collapsed": true
   },
   "outputs": [],
   "source": [
    "#Produto escolhido:\n",
    "produto = 'PUB'\n",
    "\n",
    "#Quantidade mínima de mensagens capturadas:\n",
    "n = 500\n",
    "#Quantidade mínima de mensagens para a base de treinamento:\n",
    "t = 300\n",
    "\n",
    "#Filtro de língua, escolha uma na tabela ISO 639-1.\n",
    "lang = 'pt'"
   ]
  },
  {
   "cell_type": "markdown",
   "metadata": {},
   "source": [
    "Capturando os dados do twitter:"
   ]
  },
  {
   "cell_type": "code",
   "execution_count": 6,
   "metadata": {
    "collapsed": true
   },
   "outputs": [],
   "source": [
    "#Cria um objeto para a captura\n",
    "api = tweepy.API(auth)\n",
    "\n",
    "#Inicia a captura, para mais detalhes: ver a documentação do tweepy\n",
    "i = 1\n",
    "msgs = []\n",
    "for msg in tweepy.Cursor(api.search, q=produto, lang=lang).items():    \n",
    "    msgs.append(msg.text.lower())\n",
    "    i += 1\n",
    "    if i > n:\n",
    "        break\n",
    "\n",
    "#Embaralhando as mensagens para reduzir um possível viés\n",
    "shuffle(msgs)"
   ]
  },
  {
   "cell_type": "markdown",
   "metadata": {},
   "source": [
    "Salvando os dados em uma planilha Excel:"
   ]
  },
  {
   "cell_type": "code",
   "execution_count": 39,
   "metadata": {},
   "outputs": [
    {
     "ename": "NameError",
     "evalue": "name 'produto' is not defined",
     "output_type": "error",
     "traceback": [
      "\u001b[0;31m---------------------------------------------------------------------------\u001b[0m",
      "\u001b[0;31mNameError\u001b[0m                                 Traceback (most recent call last)",
      "\u001b[0;32m<ipython-input-39-304c5b1b8769>\u001b[0m in \u001b[0;36m<module>\u001b[0;34m()\u001b[0m\n\u001b[1;32m      1\u001b[0m \u001b[1;31m#Verifica se o arquivo não existe para não substituir um conjunto pronto\u001b[0m\u001b[1;33m\u001b[0m\u001b[1;33m\u001b[0m\u001b[0m\n\u001b[0;32m----> 2\u001b[0;31m \u001b[1;32mif\u001b[0m \u001b[1;32mnot\u001b[0m \u001b[0mos\u001b[0m\u001b[1;33m.\u001b[0m\u001b[0mpath\u001b[0m\u001b[1;33m.\u001b[0m\u001b[0misfile\u001b[0m\u001b[1;33m(\u001b[0m\u001b[1;34m'./{0}.xlsx'\u001b[0m\u001b[1;33m.\u001b[0m\u001b[0mformat\u001b[0m\u001b[1;33m(\u001b[0m\u001b[0mproduto\u001b[0m\u001b[1;33m)\u001b[0m\u001b[1;33m)\u001b[0m\u001b[1;33m:\u001b[0m\u001b[1;33m\u001b[0m\u001b[0m\n\u001b[0m\u001b[1;32m      3\u001b[0m \u001b[1;33m\u001b[0m\u001b[0m\n\u001b[1;32m      4\u001b[0m     \u001b[1;31m#Abre o arquivo para escrita\u001b[0m\u001b[1;33m\u001b[0m\u001b[1;33m\u001b[0m\u001b[0m\n\u001b[1;32m      5\u001b[0m     \u001b[0mwriter\u001b[0m \u001b[1;33m=\u001b[0m \u001b[0mpd\u001b[0m\u001b[1;33m.\u001b[0m\u001b[0mExcelWriter\u001b[0m\u001b[1;33m(\u001b[0m\u001b[1;34m'{0}.xlsx'\u001b[0m\u001b[1;33m.\u001b[0m\u001b[0mformat\u001b[0m\u001b[1;33m(\u001b[0m\u001b[0mproduto\u001b[0m\u001b[1;33m)\u001b[0m\u001b[1;33m)\u001b[0m\u001b[1;33m\u001b[0m\u001b[0m\n",
      "\u001b[0;31mNameError\u001b[0m: name 'produto' is not defined"
     ]
    }
   ],
   "source": [
    "#Verifica se o arquivo não existe para não substituir um conjunto pronto\n",
    "if not os.path.isfile('./{0}.xlsx'.format(produto)):\n",
    "    \n",
    "    #Abre o arquivo para escrita\n",
    "    writer = pd.ExcelWriter('{0}.xlsx'.format(produto))\n",
    "\n",
    "    #divide o conjunto de mensagens em duas planilhas\n",
    "    dft = pd.DataFrame({'Treinamento' : pd.Series(msgs[:t])})\n",
    "    dft.to_excel(excel_writer = writer, sheet_name = 'Treinamento', index = False)\n",
    "\n",
    "    dfc = pd.DataFrame({'Teste' : pd.Series(msgs[t:])})\n",
    "    dfc.to_excel(excel_writer = writer, sheet_name = 'Teste', index = False)\n",
    "\n",
    "    #fecha o arquivo\n",
    "    writer.save()"
   ]
  },
  {
   "cell_type": "markdown",
   "metadata": {},
   "source": [
    "___\n",
    "## Classificando as Mensagens\n",
    "\n",
    "Agora você deve abrir o arquivo Excel com as mensagens capturadas e classificar na Coluna B se a mensagem é relevante ou não.<br /> \n",
    "Não se esqueça de colocar um nome para a coluna na célula **B1**.<br /><br />\n",
    "Fazer o mesmo na planilha de Controle.\n",
    "\n",
    "___\n",
    "## Montando o Classificador Naive-Bayes\n",
    "\n",
    "Com a base de treinamento montada, comece a desenvolver o classificador. Escreva o seu código abaixo:\n",
    "\n",
    "Opcionalmente: \n",
    "* Limpar as mensagens removendo os caracteres: enter, :, \", ', (, ), etc. Não remover emojis.<br />\n",
    "* Corrigir separação de espaços entre palavras e/ou emojis.\n",
    "* Propor outras limpezas/transformações que não afetem a qualidade da informação.\n",
    "\n"
   ]
  },
  {
   "cell_type": "code",
   "execution_count": 15,
   "metadata": {},
   "outputs": [],
   "source": [
    "#primeiro passo, converter em uma tabela de frequencia\n",
    "\n",
    "dados=pd.read_excel('PUBG.xlsx')\n"
   ]
  },
  {
   "cell_type": "code",
   "execution_count": 14,
   "metadata": {},
   "outputs": [
    {
     "ename": "ValueError",
     "evalue": "new categories need to have the same number of items than the old categories!",
     "output_type": "error",
     "traceback": [
      "\u001b[1;31m---------------------------------------------------------------------------\u001b[0m",
      "\u001b[1;31mValueError\u001b[0m                                Traceback (most recent call last)",
      "\u001b[1;32m<ipython-input-14-a611e2417467>\u001b[0m in \u001b[0;36m<module>\u001b[1;34m()\u001b[0m\n\u001b[0;32m      1\u001b[0m \u001b[0mdados\u001b[0m\u001b[1;33m[\u001b[0m\u001b[1;34m'Relevancia'\u001b[0m\u001b[1;33m]\u001b[0m\u001b[1;33m=\u001b[0m\u001b[0mdados\u001b[0m\u001b[1;33m[\u001b[0m\u001b[1;34m\"Relevancia\"\u001b[0m\u001b[1;33m]\u001b[0m\u001b[1;33m.\u001b[0m\u001b[0mastype\u001b[0m\u001b[1;33m(\u001b[0m\u001b[1;34m'category'\u001b[0m\u001b[1;33m)\u001b[0m\u001b[1;33m\u001b[0m\u001b[0m\n\u001b[1;32m----> 2\u001b[1;33m \u001b[0mdados\u001b[0m\u001b[1;33m[\u001b[0m\u001b[1;34m\"Relevancia\"\u001b[0m\u001b[1;33m]\u001b[0m\u001b[1;33m.\u001b[0m\u001b[0mcat\u001b[0m\u001b[1;33m.\u001b[0m\u001b[0mcategories\u001b[0m \u001b[1;33m=\u001b[0m \u001b[1;33m[\u001b[0m\u001b[1;34m\"Sim\"\u001b[0m\u001b[1;33m,\u001b[0m \u001b[1;34m\"Não\"\u001b[0m\u001b[1;33m]\u001b[0m\u001b[1;33m\u001b[0m\u001b[0m\n\u001b[0m",
      "\u001b[1;32mC:\\Users\\andra\\Anaconda3\\lib\\site-packages\\pandas\\core\\base.py\u001b[0m in \u001b[0;36m__setattr__\u001b[1;34m(self, key, value)\u001b[0m\n\u001b[0;32m    160\u001b[0m             raise AttributeError(\"You cannot add any new attribute '{key}'\".\n\u001b[0;32m    161\u001b[0m                                  format(key=key))\n\u001b[1;32m--> 162\u001b[1;33m         \u001b[0mobject\u001b[0m\u001b[1;33m.\u001b[0m\u001b[0m__setattr__\u001b[0m\u001b[1;33m(\u001b[0m\u001b[0mself\u001b[0m\u001b[1;33m,\u001b[0m \u001b[0mkey\u001b[0m\u001b[1;33m,\u001b[0m \u001b[0mvalue\u001b[0m\u001b[1;33m)\u001b[0m\u001b[1;33m\u001b[0m\u001b[0m\n\u001b[0m\u001b[0;32m    163\u001b[0m \u001b[1;33m\u001b[0m\u001b[0m\n\u001b[0;32m    164\u001b[0m \u001b[1;33m\u001b[0m\u001b[0m\n",
      "\u001b[1;32mC:\\Users\\andra\\Anaconda3\\lib\\site-packages\\pandas\\core\\base.py\u001b[0m in \u001b[0;36m_setter\u001b[1;34m(self, new_values)\u001b[0m\n\u001b[0;32m    198\u001b[0m \u001b[1;33m\u001b[0m\u001b[0m\n\u001b[0;32m    199\u001b[0m             \u001b[1;32mdef\u001b[0m \u001b[0m_setter\u001b[0m\u001b[1;33m(\u001b[0m\u001b[0mself\u001b[0m\u001b[1;33m,\u001b[0m \u001b[0mnew_values\u001b[0m\u001b[1;33m)\u001b[0m\u001b[1;33m:\u001b[0m\u001b[1;33m\u001b[0m\u001b[0m\n\u001b[1;32m--> 200\u001b[1;33m                 \u001b[1;32mreturn\u001b[0m \u001b[0mself\u001b[0m\u001b[1;33m.\u001b[0m\u001b[0m_delegate_property_set\u001b[0m\u001b[1;33m(\u001b[0m\u001b[0mname\u001b[0m\u001b[1;33m,\u001b[0m \u001b[0mnew_values\u001b[0m\u001b[1;33m)\u001b[0m\u001b[1;33m\u001b[0m\u001b[0m\n\u001b[0m\u001b[0;32m    201\u001b[0m \u001b[1;33m\u001b[0m\u001b[0m\n\u001b[0;32m    202\u001b[0m             \u001b[0m_getter\u001b[0m\u001b[1;33m.\u001b[0m\u001b[0m__name__\u001b[0m \u001b[1;33m=\u001b[0m \u001b[0mname\u001b[0m\u001b[1;33m\u001b[0m\u001b[0m\n",
      "\u001b[1;32mC:\\Users\\andra\\Anaconda3\\lib\\site-packages\\pandas\\core\\categorical.py\u001b[0m in \u001b[0;36m_delegate_property_set\u001b[1;34m(self, name, new_values)\u001b[0m\n\u001b[0;32m   2052\u001b[0m \u001b[1;33m\u001b[0m\u001b[0m\n\u001b[0;32m   2053\u001b[0m     \u001b[1;32mdef\u001b[0m \u001b[0m_delegate_property_set\u001b[0m\u001b[1;33m(\u001b[0m\u001b[0mself\u001b[0m\u001b[1;33m,\u001b[0m \u001b[0mname\u001b[0m\u001b[1;33m,\u001b[0m \u001b[0mnew_values\u001b[0m\u001b[1;33m)\u001b[0m\u001b[1;33m:\u001b[0m\u001b[1;33m\u001b[0m\u001b[0m\n\u001b[1;32m-> 2054\u001b[1;33m         \u001b[1;32mreturn\u001b[0m \u001b[0msetattr\u001b[0m\u001b[1;33m(\u001b[0m\u001b[0mself\u001b[0m\u001b[1;33m.\u001b[0m\u001b[0mcategorical\u001b[0m\u001b[1;33m,\u001b[0m \u001b[0mname\u001b[0m\u001b[1;33m,\u001b[0m \u001b[0mnew_values\u001b[0m\u001b[1;33m)\u001b[0m\u001b[1;33m\u001b[0m\u001b[0m\n\u001b[0m\u001b[0;32m   2055\u001b[0m \u001b[1;33m\u001b[0m\u001b[0m\n\u001b[0;32m   2056\u001b[0m     \u001b[1;33m@\u001b[0m\u001b[0mproperty\u001b[0m\u001b[1;33m\u001b[0m\u001b[0m\n",
      "\u001b[1;32mC:\\Users\\andra\\Anaconda3\\lib\\site-packages\\pandas\\core\\categorical.py\u001b[0m in \u001b[0;36m_set_categories\u001b[1;34m(self, categories, fastpath)\u001b[0m\n\u001b[0;32m    572\u001b[0m         if (not fastpath and self._categories is not None and\n\u001b[0;32m    573\u001b[0m                 len(categories) != len(self._categories)):\n\u001b[1;32m--> 574\u001b[1;33m             raise ValueError(\"new categories need to have the same number of \"\n\u001b[0m\u001b[0;32m    575\u001b[0m                              \"items than the old categories!\")\n\u001b[0;32m    576\u001b[0m \u001b[1;33m\u001b[0m\u001b[0m\n",
      "\u001b[1;31mValueError\u001b[0m: new categories need to have the same number of items than the old categories!"
     ]
    }
   ],
   "source": [
    "dados['Relevancia']=dados[\"Relevancia\"].astype('category')\n",
    "dados[\"Relevancia\"].cat.categories = [\"Sim\", \"Não\"]"
   ]
  },
  {
   "cell_type": "code",
   "execution_count": 6,
   "metadata": {},
   "outputs": [
    {
     "ename": "NameError",
     "evalue": "name 'dados' is not defined",
     "output_type": "error",
     "traceback": [
      "\u001b[1;31m---------------------------------------------------------------------------\u001b[0m",
      "\u001b[1;31mNameError\u001b[0m                                 Traceback (most recent call last)",
      "\u001b[1;32m<ipython-input-6-e0b1d8181065>\u001b[0m in \u001b[0;36m<module>\u001b[1;34m()\u001b[0m\n\u001b[1;32m----> 1\u001b[1;33m \u001b[0mdados\u001b[0m\u001b[1;33m.\u001b[0m\u001b[0mhead\u001b[0m\u001b[1;33m(\u001b[0m\u001b[1;33m)\u001b[0m\u001b[1;33m\u001b[0m\u001b[0m\n\u001b[0m",
      "\u001b[1;31mNameError\u001b[0m: name 'dados' is not defined"
     ]
    }
   ],
   "source": [
    "dados.head()"
   ]
  },
  {
   "cell_type": "code",
   "execution_count": 68,
   "metadata": {},
   "outputs": [
    {
     "data": {
      "text/html": [
       "<div>\n",
       "<table border=\"1\" class=\"dataframe\">\n",
       "  <thead>\n",
       "    <tr style=\"text-align: right;\">\n",
       "      <th></th>\n",
       "      <th>Treinamento</th>\n",
       "      <th>Relevancia</th>\n",
       "    </tr>\n",
       "  </thead>\n",
       "  <tbody>\n",
       "    <tr>\n",
       "      <th>0</th>\n",
       "      <td>live bora jogarhttpstcor7byt6hstdlive stream t...</td>\n",
       "      <td>Não</td>\n",
       "    </tr>\n",
       "  </tbody>\n",
       "</table>\n",
       "</div>"
      ],
      "text/plain": [
       "                                         Treinamento Relevancia\n",
       "0  live bora jogarhttpstcor7byt6hstdlive stream t...        Não"
      ]
     },
     "execution_count": 68,
     "metadata": {},
     "output_type": "execute_result"
    }
   ],
   "source": [
    "dados.Relevancia.value_counts(True)\n",
    "#primeiro passo, converter em uma tabela de frequencia\n",
    "\n",
    "#filter(str.isalnum,dados.Treinamento)\n",
    "\n",
    "# ''.join(e for e in dados if e.isalnum())\n",
    "# dados(dados['Treinamento'].split())\n",
    "\n",
    "\n",
    "import string\n",
    "\n",
    "def corrigirpontuacao(text):\n",
    "    for punctuation in string.punctuation:\n",
    "        text=text.replace(punctuation,'')\n",
    "    return text\n",
    "    \n",
    "    \n",
    "dados['Treinamento']=dados['Treinamento'].apply(corrigirpontuacao)\n",
    "dados.Treinamento=dados.Treinamento.str.replace(\"  \",\" \")\n",
    "dados.Treinamento=dados.Treinamento.str.replace(\"\\n\",\"\")\n",
    "dados.head(1)"
   ]
  },
  {
   "cell_type": "code",
   "execution_count": 1,
   "metadata": {},
   "outputs": [
    {
     "ename": "NameError",
     "evalue": "name 'pd' is not defined",
     "output_type": "error",
     "traceback": [
      "\u001b[1;31m---------------------------------------------------------------------------\u001b[0m",
      "\u001b[1;31mNameError\u001b[0m                                 Traceback (most recent call last)",
      "\u001b[1;32m<ipython-input-1-b98d6627038a>\u001b[0m in \u001b[0;36m<module>\u001b[1;34m()\u001b[0m\n\u001b[0;32m      1\u001b[0m \u001b[1;31m#Importa excel e filtra em dados relevantes e irrelevantes\u001b[0m\u001b[1;33m\u001b[0m\u001b[1;33m\u001b[0m\u001b[0m\n\u001b[1;32m----> 2\u001b[1;33m \u001b[0mdados2\u001b[0m\u001b[1;33m=\u001b[0m\u001b[0mpd\u001b[0m\u001b[1;33m.\u001b[0m\u001b[0mread_excel\u001b[0m\u001b[1;33m(\u001b[0m\u001b[1;34m'PUBG.xlsx'\u001b[0m\u001b[1;33m)\u001b[0m\u001b[1;33m\u001b[0m\u001b[0m\n\u001b[0m\u001b[0;32m      3\u001b[0m \u001b[0mdados2\u001b[0m\u001b[1;33m=\u001b[0m\u001b[0mdados2\u001b[0m\u001b[1;33m.\u001b[0m\u001b[0miloc\u001b[0m\u001b[1;33m[\u001b[0m\u001b[1;33m:\u001b[0m\u001b[1;33m,\u001b[0m\u001b[1;33m[\u001b[0m\u001b[1;36m0\u001b[0m\u001b[1;33m,\u001b[0m\u001b[1;36m1\u001b[0m\u001b[1;33m]\u001b[0m\u001b[1;33m]\u001b[0m\u001b[1;33m\u001b[0m\u001b[0m\n\u001b[0;32m      4\u001b[0m \u001b[0mdados2\u001b[0m\u001b[1;33m[\u001b[0m\u001b[1;34m'Relevancia'\u001b[0m\u001b[1;33m]\u001b[0m\u001b[1;33m=\u001b[0m\u001b[0mdados2\u001b[0m\u001b[1;33m[\u001b[0m\u001b[1;34m\"Relevancia\"\u001b[0m\u001b[1;33m]\u001b[0m\u001b[1;33m.\u001b[0m\u001b[0mastype\u001b[0m\u001b[1;33m(\u001b[0m\u001b[1;34m'category'\u001b[0m\u001b[1;33m)\u001b[0m\u001b[1;33m\u001b[0m\u001b[0m\n\u001b[0;32m      5\u001b[0m \u001b[0mdados2\u001b[0m\u001b[1;33m[\u001b[0m\u001b[1;34m\"Relevancia\"\u001b[0m\u001b[1;33m]\u001b[0m\u001b[1;33m.\u001b[0m\u001b[0mcat\u001b[0m\u001b[1;33m.\u001b[0m\u001b[0mcategories\u001b[0m \u001b[1;33m=\u001b[0m \u001b[1;33m[\u001b[0m\u001b[1;34m\"Sim\"\u001b[0m\u001b[1;33m,\u001b[0m \u001b[1;34m\"Não\"\u001b[0m\u001b[1;33m]\u001b[0m\u001b[1;33m\u001b[0m\u001b[0m\n",
      "\u001b[1;31mNameError\u001b[0m: name 'pd' is not defined"
     ]
    }
   ],
   "source": [
    "#Importa excel e filtra em dados relevantes e irrelevantes\n",
    "dados2=pd.read_excel('PUBG.xlsx')\n",
    "dados2=dados2.iloc[:,[0,1]]\n",
    "dados2['Relevancia']=dados2[\"Relevancia\"].astype('category')\n",
    "dados2[\"Relevancia\"].cat.categories = [\"Sim\", \"Não\"]\n",
    "relevantesDados2=dados2[(dados2.Relevancia==\"Sim\")]\n",
    "irrelevanteDados2=dados2[(dados2.Relevancia==\"Não\")]\n",
    "# Passa o conteudo de cada frase relevante pra uma lista\n",
    "relevanteslinhas=relevantesDados2.shape\n",
    "relevanteslinhas=relevanteslinhas[0]\n",
    "c=0\n",
    "relevante=[]\n",
    "while c<relevanteslinhas:\n",
    "    cell=relevantesDados2.iloc[[c],[0]]\n",
    "    cell=str(cell)\n",
    "    rl.append(cell)\n",
    "    c=c+1\n",
    "#Faz o mesmo para os tweets irrelevantes\n",
    "irrelevantelinhas=irrelevanteDados2.shape\n",
    "irrelevantelinhas=irrelevantelinhas[0]\n",
    "c=0\n",
    "irrelevante=[]\n",
    "while c<irrelevantelinhas:\n",
    "    cell=irrelevanteDados2.iloc[[c],[0]]\n",
    "    cell=str(cell)\n",
    "    irrelevante.append(cell)\n",
    "    c=c+1"
   ]
  },
  {
   "cell_type": "code",
   "execution_count": 91,
   "metadata": {},
   "outputs": [
    {
     "data": {
      "text/plain": [
       "['                                         Treinamento\\n0  live! bora jogar?\\\\nhttps://t.co/r7byt6hstd\\\\n#l...',\n",
       " '                                         Treinamento\\n2  rt @videogamerzbr: sorteio de uma key de battl...',\n",
       " '                 Treinamento\\n3  pubg time via restream.io',\n",
       " '                                         Treinamento\\n4  rt @otiozero: último dia de pubg no canal! vem...',\n",
       " '                                          Treinamento\\n15  gostei de um vídeo do @youtube https://t.co/rt...',\n",
       " '                                          Treinamento\\n21  4 subs para el goal!\\\\nvamos al pubg\\\\nhttps://t...',\n",
       " '                                          Treinamento\\n24  rt @loukaspelodenis: live do grande @denissnid...',\n",
       " '                                          Treinamento\\n26  gostei de um vídeo @youtube https://t.co/k8zgr...',\n",
       " '                                          Treinamento\\n28  rt @otiozero: último dia de pubg no canal! vem...',\n",
       " '                                          Treinamento\\n29  gostei de um vídeo @youtube https://t.co/j8thb...',\n",
       " '                                          Treinamento\\n30  i added a video to a @youtube playlist https:/...',\n",
       " '                                          Treinamento\\n31  rt @guizaokemen: stream do duo da caganeira on...',\n",
       " '                                          Treinamento\\n33  gostei de um vídeo do @youtube https://t.co/6f...',\n",
       " '                                          Treinamento\\n34  gostei de um vídeo @youtube https://t.co/clkqi...',\n",
       " '                                     Treinamento\\n35  🔴 pubg: https://t.co/ce6thpynzk qua @youtube',\n",
       " '                                          Treinamento\\n38  gostei de um vídeo do @youtube https://t.co/mz...',\n",
       " '                                      Treinamento\\n41  respeita o pai #pubg\\\\nhttps://t.co/ymc1zykzk7',\n",
       " '                                          Treinamento\\n43  competitivo cs:go ao vivo ak cruzada = prata 1...',\n",
       " '                                          Treinamento\\n46  carai #top1 kills #solo #pubg #global, parabén...',\n",
       " '                                          Treinamento\\n47  top 10 jogadas pubg#1 - tecnosh [br]\\\\nhttps://...',\n",
       " '                                          Treinamento\\n48  gostei de um video @youtube de @planetvaleria ...',\n",
       " '                                          Treinamento\\n50  gostei de um vídeo @youtube https://t.co/kvtpu...',\n",
       " '   Treinamento\\n53        game',\n",
       " '                                          Treinamento\\n54  rt @santii99_: pubg de risas https://t.co/h6qp...',\n",
       " '                                          Treinamento\\n55  gostei de um vídeo @youtube https://t.co/9z5tc...',\n",
       " '                                          Treinamento\\n56  estou participando do sorteio do @trutsdew de ...',\n",
       " '                                          Treinamento\\n57  gostei de um vídeo do @youtube https://t.co/8c...',\n",
       " '                                          Treinamento\\n60  100 seguidores = skin misteriosa\\\\n250 seguidor...',\n",
       " '                                          Treinamento\\n61  vo joga um pubg ao vivo na twitch. assista em ...',\n",
       " '                                          Treinamento\\n66  pubg - momentos random 3: https://t.co/w7kaago...',\n",
       " '                                          Treinamento\\n70  gostei de um vídeo @youtube https://t.co/fpa0b...',\n",
       " \"                                          Treinamento\\n72  playerunknown's battlegrounds como não jogar!!...\",\n",
       " '                                       Treinamento\\n74  eu no momento... #pubg https://t.co/yuvw0aeb7o',\n",
       " '                                          Treinamento\\n76  gostei de um vídeo @youtube https://t.co/x2rmw...',\n",
       " '                                          Treinamento\\n77  mais uma tarde de pubg, é só win (live insana)...',\n",
       " '         Treinamento\\n78  pubg@1〜3\\\\nvain@2',\n",
       " '                                          Treinamento\\n79  gostei de um vídeo @youtube https://t.co/ue3mg...',\n",
       " '                                          Treinamento\\n83  jogando pubg - ft. jhonson cabr e caveirinha: ...',\n",
       " '                                          Treinamento\\n84  gostei de um vídeo @youtube https://t.co/pfsaf...',\n",
       " '                                          Treinamento\\n86  rt @otiozero: último dia de pubg no canal! vem...',\n",
       " '                                          Treinamento\\n87  gostei de um vídeo @youtube https://t.co/c5a9r...',\n",
       " '                                          Treinamento\\n88  gostei de um vídeo @youtube https://t.co/xrmve...',\n",
       " \"                                          Treinamento\\n92  discovery's sobrevivi pubg - bdm (momentos eng...\",\n",
       " '                                          Treinamento\\n95  to fazendo stream tentando ensinar o gordox a ...',\n",
       " '                                          Treinamento\\n96  rt @loukaspelodenis: live do grande @denissnid...',\n",
       " '                                          Treinamento\\n97  ai @eduardoduccigne https://t.co/3a1hqclgac va...',\n",
       " '                                          Treinamento\\n98  gostei de um vídeo @youtube https://t.co/q5gta...',\n",
       " '                                           Treinamento\\n100  gostei de um vídeo @youtube https://t.co/be8ev...',\n",
       " '                                           Treinamento\\n102  gostei de um vídeo @youtube https://t.co/giw1r...',\n",
       " '                                           Treinamento\\n105  gostei de um vídeo @youtube https://t.co/ym82r...',\n",
       " '                                           Treinamento\\n110  [live] pubg: porque no battlegrounds também te...',\n",
       " '                                           Treinamento\\n114  pubg hightlights #5 - ninguém se mata!: https:...',\n",
       " '                                           Treinamento\\n115  fallen jogando pubg - melhores momentos #1: ht...',\n",
       " '                                           Treinamento\\n117  @duxtromb @pubg_hispano felicidades!! https://...',\n",
       " '                                           Treinamento\\n118  bora fazer live de #pubg hj tb? \\\\o/\\\\nhttps://t...',\n",
       " '                                           Treinamento\\n119  gostei de um vídeo @youtube https://t.co/fyjum...',\n",
       " '                                           Treinamento\\n121  pc mode muna para sa qave pc gamer, pubg neyma...',\n",
       " '                                           Treinamento\\n122  gostei de um vídeo @youtube https://t.co/myzrz...',\n",
       " '                                           Treinamento\\n124  gostei de um vídeo @youtube https://t.co/4yqnz...',\n",
       " '                                           Treinamento\\n126  rt @darkzone95: mais uma noite de pubg\\\\nhttps:...',\n",
       " '                                           Treinamento\\n127  adicionei um vídeo a uma playlist @youtube htt...',\n",
       " '                                           Treinamento\\n128  gostei de um vídeo @youtubegaming https://t.co...',\n",
       " '                                    Treinamento\\n129  compra o pubg logo https://t.co/vyzhfbkaqc',\n",
       " '                                           Treinamento\\n130  gostei de um vídeo @youtube https://t.co/7ek3h...',\n",
       " '                                           Treinamento\\n131  rt @mrsmxkez: bo3 &amp; pubg https://t.co/nxmj...',\n",
       " '                                           Treinamento\\n132  gostei de um vídeo @youtube https://t.co/tpos6...',\n",
       " '                                           Treinamento\\n135  gostei de um vídeo do @youtube https://t.co/4y...',\n",
       " '                                           Treinamento\\n136  gostei de um vídeo do @youtubegaming https://t...',\n",
       " '                                           Treinamento\\n137  catioros!! 🐶 ta rolando sorteio de #pubg lá no...',\n",
       " '                                           Treinamento\\n138  &gt;2 da manhã \\\\n&gt;aula as 7\\\\n&gt;pubg \\\\n&gt...',\n",
       " '                                           Treinamento\\n139  https://t.co/pnvnmwxeqr luls #luls #twitch #bo...',\n",
       " '                                           Treinamento\\n141  gostei de um vídeo @youtube https://t.co/prc7t...',\n",
       " '                                           Treinamento\\n142  stream starts at 2.30 pm, be ready :^) \\\\n\\\\nstr...',\n",
       " '                                           Treinamento\\n144  penguins, temos uma pergunta sobre pubg. \\\\n\\\\nv...',\n",
       " '                                           Treinamento\\n145  gostei de um vídeo @youtube https://t.co/jgstv...',\n",
       " '                                           Treinamento\\n146  gostei de um vídeo @youtube https://t.co/si6lx...',\n",
       " '                                           Treinamento\\n148  gostei de um vídeo @youtube https://t.co/vnwst...',\n",
       " '                                           Treinamento\\n149  rt @videogamerzbr: sorteio de uma key de battl...',\n",
       " '                                           Treinamento\\n154  stream do duo da caganeira online jogando aque...',\n",
       " '                                           Treinamento\\n157  mais um video no canal!!!\\\\n#pubg - o pior squa...',\n",
       " '                                           Treinamento\\n161  gostei de um vídeo @youtube https://t.co/6itxw...',\n",
       " '                                           Treinamento\\n162  melhores momentos pubg #1 buzina da morte http...',\n",
       " '                                           Treinamento\\n165  gostei de um vídeo @youtube https://t.co/zjuq8...',\n",
       " '                                           Treinamento\\n168  squad da zueira - pubg: https://t.co/lahjgif1c...',\n",
       " '                                           Treinamento\\n170  gostei de um vídeo @youtube https://t.co/5qhip...',\n",
       " '                                           Treinamento\\n172  gostei de um vídeo do @youtube https://t.co/j4...',\n",
       " '                                           Treinamento\\n173  gostei de um vídeo @youtube https://t.co/w8nla...',\n",
       " '                                           Treinamento\\n174  gostei de um vídeo @youtube https://t.co/gzq8w...',\n",
       " '                                           Treinamento\\n176  rt @brisasuavelive: hora da entregaaaa🎁\\\\nduo d...',\n",
       " '                                           Treinamento\\n178  gostei de um vídeo @youtube https://t.co/hfl1l...',\n",
       " '                                           Treinamento\\n179  rt @games_kayky: gostei de um vídeo @youtube h...',\n",
       " '                                         Treinamento\\n181  pubg - #5: https://t.co/eomqvtcqrk qua @youtube',\n",
       " '                                           Treinamento\\n183  rt @brisasuavelive: hora da entregaaaa🎁\\\\nduo d...',\n",
       " '                                           Treinamento\\n184  adicionei um vídeo a uma playlist @youtube htt...',\n",
       " '                                           Treinamento\\n186  gostei de um vídeo @youtube https://t.co/r2ezc...',\n",
       " '                                           Treinamento\\n187  gostei de um vídeo @youtube https://t.co/s7w9t...',\n",
       " '                                           Treinamento\\n188  gostei de um vídeo @youtube https://t.co/4f3cu...',\n",
       " '                                           Treinamento\\n193  pubg à frente de dota 2 no steam https://t.co/...',\n",
       " '                                           Treinamento\\n195  gostei de um vídeo @youtube https://t.co/50h4q...',\n",
       " '                                           Treinamento\\n200  gostei de um vídeo @youtube https://t.co/9lez4...',\n",
       " '                                           Treinamento\\n201  rt @brisasuavelive: hora da entregaaaa🎁\\\\nduo d...',\n",
       " '                                           Treinamento\\n202  rt @i9mha: \"lol é muito mais divertido que pub...',\n",
       " '                                           Treinamento\\n203  sou muito seu fã nino, obrigado pela atenção, ...',\n",
       " '                                           Treinamento\\n206  4,5 vitórias no pubg @gamerpatife https://t.co...',\n",
       " '                                           Treinamento\\n207  gostei de um vídeo @youtube https://t.co/jf9gj...',\n",
       " '                                           Treinamento\\n208  gostei de um vídeo @youtube https://t.co/vtmxy...',\n",
       " '                                           Treinamento\\n209  gostei de um vídeo @youtube https://t.co/3nkmi...',\n",
       " '                                           Treinamento\\n210  gostei de um vídeo @youtube https://t.co/2vjdp...',\n",
       " '                                           Treinamento\\n211  rt @videogamerzbr: sorteio de uma key de battl...',\n",
       " '                                           Treinamento\\n213  gostei de um vídeo do @youtube https://t.co/dm...',\n",
       " '                                           Treinamento\\n214  rt @melaotreze: https://t.co/zybzomeod2\\\\n\\\\ntam...',\n",
       " '                                           Treinamento\\n216  gostei de um vídeo do @youtube https://t.co/pu...',\n",
       " '                                           Treinamento\\n220  live stream online!!! \\\\npubg / cs\\\\n\\\\nhttps://t...',\n",
       " '                                           Treinamento\\n221  gostei de um vídeo @youtube https://t.co/aoooj...',\n",
       " '                                           Treinamento\\n222  gostei de um vídeo @youtube https://t.co/xhoiv...',\n",
       " '                                           Treinamento\\n224  gostei de um vídeo @youtube https://t.co/s8swv...',\n",
       " \"                                           Treinamento\\n225  começando a semana no ar com sub's day! #pubg ...\",\n",
       " '                                           Treinamento\\n227  pub clips - top 10 jogadas pubg \\\\naqui você ir...',\n",
       " '                                           Treinamento\\n229  noite de pubg | #rumoaos800 | livestream #127:...',\n",
       " '                               Treinamento\\n231  pubg de risas https://t.co/h6qpmixstg',\n",
       " '                                           Treinamento\\n232  rt @loukaspelodenis: live do grande @denissnid...',\n",
       " '                                           Treinamento\\n235  rt @mgnbrasil: jogadores de #pubg entenderão.....',\n",
       " '                                           Treinamento\\n237  rt @mgnbrasil: jogadores de #pubg entenderão.....',\n",
       " '                                           Treinamento\\n239  gostei de um vídeo @youtube https://t.co/9tmqb...',\n",
       " '                                           Treinamento\\n241  gostei de um vídeo do @youtube https://t.co/yz...',\n",
       " '                                           Treinamento\\n243  gostei de um vídeo @youtube https://t.co/ksk4q...',\n",
       " '                                           Treinamento\\n244  gostei de um vídeo @youtube https://t.co/j4xtf...',\n",
       " '                                           Treinamento\\n245  último dia de pubg no canal! vem!!!!\\\\nhttps://...',\n",
       " '                                           Treinamento\\n247  adicionei um vídeo a uma playlist @youtube htt...',\n",
       " '                                           Treinamento\\n250  https://t.co/r3l6czb5sj\\\\n\\\\ndocil foi pra rave ...',\n",
       " '         Treinamento\\n254  pubg o acads? 🤔',\n",
       " '                                           Treinamento\\n255  gostei de um vídeo do @youtube https://t.co/6t...',\n",
       " '                                           Treinamento\\n257  gostei de um vídeo @youtube https://t.co/q9pxu...',\n",
       " '                                           Treinamento\\n259  rt @mrsmxkez: bo3 &amp; pubg https://t.co/nxmj...',\n",
       " '                                           Treinamento\\n261  gostei de um vídeo @youtube https://t.co/n7lzz...',\n",
       " '                                           Treinamento\\n267  gostei de um vídeo @youtube https://t.co/fkqqs...',\n",
       " '                                           Treinamento\\n270  rt @videogamerzbr: sorteio de uma key de battl...',\n",
       " '                                           Treinamento\\n272  gostei de um vídeo do @youtube https://t.co/6j...',\n",
       " '                                           Treinamento\\n274  gostei de um vídeo do @youtube https://t.co/bf...',\n",
       " '                                           Treinamento\\n276  gostei de um vídeo @youtube https://t.co/ovaof...',\n",
       " '                                           Treinamento\\n277  gostei de um vídeo @youtube https://t.co/14ehj...',\n",
       " '                                           Treinamento\\n280  gostei de um vídeo @youtube https://t.co/b8g2f...',\n",
       " '                                           Treinamento\\n282  gostei de um vídeo @youtube https://t.co/ympio...',\n",
       " '                                           Treinamento\\n283  gostei de um vídeo @youtube https://t.co/1djok...',\n",
       " '                                           Treinamento\\n285  gostei de um vídeo @youtube https://t.co/wlrbe...',\n",
       " '                                           Treinamento\\n287  gostei de um vídeo do @youtube https://t.co/vu...',\n",
       " '                                           Treinamento\\n289  gostei de um vídeo @youtube https://t.co/ltcxs...',\n",
       " '                                           Treinamento\\n291  stream on!! \\\\n\\\\npubg mesmo!! \\\\n\\\\nrt humilde!!\\\\...',\n",
       " '                                           Treinamento\\n296  gostei de um vídeo do @youtube https://t.co/ny...',\n",
       " '                                           Treinamento\\n299  gostei de um vídeo @youtube https://t.co/ymf36...']"
      ]
     },
     "execution_count": 91,
     "metadata": {},
     "output_type": "execute_result"
    }
   ],
   "source": [
    "irrelevante"
   ]
  },
  {
   "cell_type": "markdown",
   "metadata": {},
   "source": [
    "___\n",
    "## Verificando a performance\n",
    "\n",
    "Agora você deve testar o seu Classificador com a base de Testes.<br /><br /> \n",
    "\n",
    "Você deve extrair as seguintes medidas:\n",
    "* Porcentagem de positivos falsos (marcados como relevante mas não são relevantes)\n",
    "* Porcentagem de positivos verdadeiros (marcado como relevante e são relevantes)\n",
    "* Porcentagem de negativos verdadeiros (marcado como não relevante e não são relevantes)\n",
    "* Porcentagem de negativos falsos (marcado como não relevante e são relevantes)\n",
    "\n",
    "Opcionalmente:\n",
    "* Criar categorias intermediárias de relevância baseado na diferença de probabilidades. Exemplo: muito relevante, relevante, neutro, irrelevante e muito irrelevante."
   ]
  },
  {
   "cell_type": "code",
   "execution_count": null,
   "metadata": {
    "collapsed": true,
    "scrolled": true
   },
   "outputs": [],
   "source": []
  },
  {
   "cell_type": "markdown",
   "metadata": {
    "collapsed": true
   },
   "source": [
    "___\n",
    "## Concluindo\n",
    "\n",
    "Escreva aqui a sua conclusão.<br /> \n",
    "Faça um comparativo qualitativo sobre as medidas obtidas.<br />\n",
    "Explique como são tratadas as mensagens com dupla negação e sarcasmo.<br />\n",
    "Proponha um plano de expansão. Por que eles devem continuar financiando o seu projeto?<br />\n",
    "\n",
    "Opcionalmente: \n",
    "* Discorrer por que não posso alimentar minha base de Treinamento automaticamente usando o próprio classificador, aplicado a novos tweets.\n",
    "* Propor diferentes cenários de uso para o classificador Naive-Bayes. Cenários sem intersecção com este projeto.\n",
    "* Sugerir e explicar melhorias reais no classificador com indicações concretas de como implementar (não é preciso codificar, mas indicar como fazer e material de pesquisa sobre o assunto).\n"
   ]
  },
  {
   "cell_type": "code",
   "execution_count": null,
   "metadata": {
    "collapsed": true
   },
   "outputs": [],
   "source": []
  }
 ],
 "metadata": {
  "kernelspec": {
   "display_name": "Python 3",
   "language": "python",
   "name": "python3"
  },
  "language_info": {
   "codemirror_mode": {
    "name": "ipython",
    "version": 3
   },
   "file_extension": ".py",
   "mimetype": "text/x-python",
   "name": "python",
   "nbconvert_exporter": "python",
   "pygments_lexer": "ipython3",
   "version": "3.6.1"
  }
 },
 "nbformat": 4,
 "nbformat_minor": 1
}
